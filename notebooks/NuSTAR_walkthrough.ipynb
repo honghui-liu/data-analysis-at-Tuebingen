{
 "cells": [
  {
   "cell_type": "markdown",
   "id": "c7ce438e-1e5f-4b45-a639-e9dda277b06c",
   "metadata": {},
   "source": [
    "# **0. Prerequisites**"
   ]
  },
  {
   "cell_type": "markdown",
   "id": "69d22e21-a0e4-4535-a89d-37fe3b180870",
   "metadata": {},
   "source": [
    "## 0.1. Installation of HEAsoft"
   ]
  },
  {
   "cell_type": "markdown",
   "id": "cdd445da-df6d-4c5e-8000-6e2471489752",
   "metadata": {},
   "source": [
    "excute \n",
    "`wget https://heasarc.gsfc.nasa.gov/FTP/software/lheasoft/lheasoft6.36/heasoft-6.36src.tar.gz` in your preferred installation directory\n",
    "\n",
    "and follow the installation guidance at <https://heasarc.gsfc.nasa.gov/docs/software/lheasoft/linux.html>\n",
    "\n",
    "We strongly recommend you to **compile the source code** to proceed (in order to use local models)!"
   ]
  },
  {
   "cell_type": "markdown",
   "id": "d77ebda9-7852-4d47-9fb2-960fcdafc698",
   "metadata": {},
   "source": [
    "## 0.2. Installing the calibration database (**$CALDB**)"
   ]
  },
  {
   "cell_type": "markdown",
   "id": "8359d9a5-23a4-478a-9dee-6239b88087b3",
   "metadata": {},
   "source": [
    "1) follow the guidance at <https://heasarc.gsfc.nasa.gov/docs/heasarc/caldb/caldb_install.html> to install the calibration database software.\n",
    "2) `cd $CALDB`\n",
    "3) find the calibration files of NuSTAR mission at <https://heasarc.gsfc.nasa.gov/docs/heasarc/caldb/caldb_supported_missions.html>\n",
    "4) run `wget https://heasarc.gsfc.nasa.gov/FTP/caldb/data/nustar/fpm/goodfiles_nustar_fpm_20251027.tar.gz`\n",
    "5) `tar -zxf goodfiles_nustar_fpm_20251027.tar.gz`"
   ]
  },
  {
   "cell_type": "markdown",
   "id": "affd918a-4a58-4e2a-b772-dbf291049381",
   "metadata": {},
   "source": [
    "## 0.3. Installing DS9 (for image handling)"
   ]
  },
  {
   "cell_type": "markdown",
   "id": "8e705557-7c6c-4257-9abc-73ed1dae85e4",
   "metadata": {},
   "source": [
    "go to <https://sites.google.com/cfa.harvard.edu/saoimageds9> and follow the installation guidance"
   ]
  },
  {
   "cell_type": "markdown",
   "id": "a9062165-9aaf-44a0-9452-3446dbcfc77e",
   "metadata": {},
   "source": [
    "# **1. Access to the observational data of high energy astrophysics**"
   ]
  },
  {
   "cell_type": "markdown",
   "id": "7d55182d-1883-45c6-8b6f-ec8f8d1c6c0e",
   "metadata": {},
   "source": [
    "go to <https://heasarc.gsfc.nasa.gov/cgi-bin/W3Browse/w3browse.pl> and search for your interested source"
   ]
  },
  {
   "cell_type": "markdown",
   "id": "69d4a09c-9e20-4da0-917e-6830d11585f3",
   "metadata": {},
   "source": [
    "### e.g. the famous galactic BH Cygnus X-1"
   ]
  },
  {
   "cell_type": "markdown",
   "id": "8b3a7152-d5a5-4c07-ae3d-b4778709d74b",
   "metadata": {},
   "source": [
    "`wget -q -nH --no-check-certificate --cut-dirs=6 -r -w1 -l0 -c -N -np\n",
    "-R 'index*' -erobots=off --retr-symlinks https://heasarc.gsfc.nasa.gov/FTP/nustar/data/obs/10/9//91002320002/`"
   ]
  },
  {
   "cell_type": "code",
   "execution_count": null,
   "id": "44ba8af9-65c2-4c85-95db-4259c04875d5",
   "metadata": {},
   "outputs": [],
   "source": []
  }
 ],
 "metadata": {
  "kernelspec": {
   "display_name": "Python 3 (ipykernel)",
   "language": "python",
   "name": "python3"
  },
  "language_info": {
   "codemirror_mode": {
    "name": "ipython",
    "version": 3
   },
   "file_extension": ".py",
   "mimetype": "text/x-python",
   "name": "python",
   "nbconvert_exporter": "python",
   "pygments_lexer": "ipython3",
   "version": "3.12.2"
  }
 },
 "nbformat": 4,
 "nbformat_minor": 5
}
